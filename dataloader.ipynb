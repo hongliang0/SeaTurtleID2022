{
 "cells": [
  {
   "cell_type": "code",
   "execution_count": 12,
   "id": "e8af399f",
   "metadata": {},
   "outputs": [
    {
     "name": "stdout",
     "output_type": "stream",
     "text": [
      "loading annotations into memory...\n",
      "Done (t=4.65s)\n",
      "creating index...\n",
      "index created!\n",
      "Filtered annotations saved to archive/turtles-data/data/filtered_annotations.json\n",
      "loading annotations into memory...\n",
      "Done (t=2.86s)\n",
      "creating index...\n",
      "index created!\n",
      "\n",
      "Validation of filtered dataset:\n",
      "Number of images missing 'turtle' label after filtering: 0\n",
      "Number of images missing 'head' label after filtering: 0\n",
      "Number of images missing 'flipper' label after filtering: 0\n"
     ]
    }
   ],
   "source": [
    "import json\n",
    "from pycocotools.coco import COCO\n",
    "\n",
    "# Path to the original annotation file\n",
    "annotation_file = 'archive/turtles-data/data/annotations.json'\n",
    "coco = COCO(annotation_file)\n",
    "\n",
    "# Required categories\n",
    "required_categories = [\"turtle\", \"head\", \"flipper\"]\n",
    "cat_ids = coco.getCatIds(catNms=required_categories)\n",
    "cat_ids_map = dict(zip(required_categories, cat_ids))\n",
    "\n",
    "# Identify images that have all required labels\n",
    "valid_image_ids = []\n",
    "for img_id in coco.getImgIds():\n",
    "    has_all_labels = True\n",
    "    for category, cat_id in cat_ids_map.items():\n",
    "        ann_ids = coco.getAnnIds(imgIds=img_id, catIds=cat_id)\n",
    "        if not ann_ids:  # If the category label is missing\n",
    "            has_all_labels = False\n",
    "            break\n",
    "    if has_all_labels:\n",
    "        valid_image_ids.append(img_id)\n",
    "\n",
    "# Create a new annotation dictionary containing only images with all labels\n",
    "filtered_annotations = {\n",
    "    \"images\": [img for img in coco.dataset[\"images\"] if img[\"id\"] in valid_image_ids],\n",
    "    \"annotations\": [ann for ann in coco.dataset[\"annotations\"] if ann[\"image_id\"] in valid_image_ids],\n",
    "    \"categories\": coco.dataset[\"categories\"]\n",
    "}\n",
    "\n",
    "# Save the filtered annotations to a new JSON file\n",
    "filtered_annotation_file = 'archive/turtles-data/data/filtered_annotations.json'\n",
    "with open(filtered_annotation_file, 'w') as f:\n",
    "    json.dump(filtered_annotations, f)\n",
    "print(f\"Filtered annotations saved to {filtered_annotation_file}\")\n",
    "\n",
    "# Verify the filtered result\n",
    "filtered_coco = COCO(filtered_annotation_file)\n",
    "missing_labels_images = {category: 0 for category in required_categories}\n",
    "\n",
    "for img_id in filtered_coco.getImgIds():\n",
    "    for category, cat_id in cat_ids_map.items():\n",
    "        ann_ids = filtered_coco.getAnnIds(imgIds=img_id, catIds=cat_id)\n",
    "        if not ann_ids:\n",
    "            missing_labels_images[category] += 1\n",
    "            break\n",
    "\n",
    "# Print the verification results\n",
    "print(\"\\nValidation of filtered dataset:\")\n",
    "for category, count in missing_labels_images.items():\n",
    "    print(f\"Number of images missing '{category}' label after filtering: {count}\")\n"
   ]
  },
  {
   "cell_type": "code",
   "execution_count": 10,
   "id": "bb55591b",
   "metadata": {},
   "outputs": [
    {
     "name": "stdout",
     "output_type": "stream",
     "text": [
      "\n",
      "Number of images missing 'turtle' label: 0\n",
      "\n",
      "Number of images missing 'head' label: 0\n",
      "\n",
      "Number of images missing 'flipper' label: 0\n"
     ]
    }
   ],
   "source": [
    "\n",
    "required_categories = [\"turtle\", \"head\", \"flipper\"]\n",
    "cat_ids = coco.getCatIds(catNms=required_categories)\n",
    "cat_ids_map = dict(zip(category_names, cat_ids))\n",
    "\n",
    "missing_labels_images = {category: 0 for category in required_categories}\n",
    "img_ids = coco.getImgIds()\n",
    "\n",
    "for img_id in img_ids:\n",
    "    for category, cat_id in cat_ids_map.items():\n",
    "        ann_ids = coco.getAnnIds(imgIds=img_id, catIds=cat_id)\n",
    "        if not ann_ids:\n",
    "            missing_labels_images[category] += 1\n",
    "            break\n",
    "\n",
    "for category, count in missing_labels_images.items():\n",
    "    print(f\"\\nNumber of images missing '{category}' label: {count}\")"
   ]
  },
  {
   "cell_type": "code",
   "execution_count": null,
   "id": "d9110e84",
   "metadata": {},
   "outputs": [],
   "source": []
  }
 ],
 "metadata": {
  "kernelspec": {
   "display_name": "Python 3 (ipykernel)",
   "language": "python",
   "name": "python3"
  },
  "language_info": {
   "codemirror_mode": {
    "name": "ipython",
    "version": 3
   },
   "file_extension": ".py",
   "mimetype": "text/x-python",
   "name": "python",
   "nbconvert_exporter": "python",
   "pygments_lexer": "ipython3",
   "version": "3.11.5"
  }
 },
 "nbformat": 4,
 "nbformat_minor": 5
}
