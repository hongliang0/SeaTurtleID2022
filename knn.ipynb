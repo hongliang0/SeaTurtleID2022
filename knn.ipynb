{
 "cells": [
  {
   "cell_type": "code",
   "execution_count": 1,
   "metadata": {},
   "outputs": [],
   "source": [
    "# COMP9517 Group Project"
   ]
  },
  {
   "cell_type": "code",
   "execution_count": 2,
   "metadata": {},
   "outputs": [],
   "source": [
    "### Model 1 : KNN\n",
    "\n",
    "# Please run this file after dataVisualisation.ipynb. Afterwards, you can run any model in any order."
   ]
  },
  {
   "cell_type": "code",
   "execution_count": 3,
   "metadata": {},
   "outputs": [
    {
     "name": "stderr",
     "output_type": "stream",
     "text": [
      "c:\\Users\\61402\\anaconda3\\envs\\cv\\lib\\site-packages\\albumentations\\__init__.py:13: UserWarning: A new version of Albumentations is available: 1.4.21 (you have 1.4.18). Upgrade using: pip install -U albumentations. To disable automatic update checks, set the environment variable NO_ALBUMENTATIONS_UPDATE to 1.\n",
      "  check_for_updates()\n"
     ]
    }
   ],
   "source": [
    "import numpy as np\n",
    "import cv2 as cv\n",
    "from pycocotools.coco import COCO\n",
    "from sklearn.neighbors import KNeighborsClassifier\n",
    "from sklearn.model_selection import train_test_split\n",
    "from sklearn.metrics import classification_report\n",
    "from torch.utils.data import Dataset, DataLoader, Subset\n",
    "import pandas as pd\n",
    "import albumentations as A\n",
    "import os\n",
    "import matplotlib.pyplot as plt\n"
   ]
  },
  {
   "cell_type": "code",
   "execution_count": 4,
   "metadata": {},
   "outputs": [],
   "source": [
    "# Define transformation for resizing and normalizing\n",
    "resize_transform = A.Compose([\n",
    "    A.Resize(512, 512),  # Resize images to a consistent size\n",
    "    A.Normalize(mean=[0.485, 0.456, 0.406], std=[0.229, 0.224, 0.225]),  # Normalization\n",
    "])\n",
    "\n",
    "class SeaTurtleDatasetForKNN(Dataset):\n",
    "    def __init__(self, image_ids, transform=None):\n",
    "        self.coco = COCO(\"./turtles-data/data/updated_annotations.json\")\n",
    "        self.image_ids = image_ids\n",
    "        self.cat_ids = self.coco.getCatIds()\n",
    "        self.transform = transform\n",
    "\n",
    "    def __len__(self):\n",
    "        return len(self.image_ids)\n",
    "\n",
    "    def __getitem__(self, index):\n",
    "        # Load image\n",
    "        image_id = self.image_ids[index]\n",
    "        image_data = self.coco.loadImgs([image_id])[0]\n",
    "\n",
    "        image_path = os.path.join(\"./turtles-data/data\", image_data[\"file_name\"])\n",
    "        image = cv.imread(image_path)\n",
    "        image = cv.cvtColor(image, cv.COLOR_BGR2RGB)\n",
    "\n",
    "        # Prepare mask\n",
    "        mask = self._getmask(image_id, image)\n",
    "\n",
    "        # Apply transformations\n",
    "        if self.transform is not None:\n",
    "            augmented = self.transform(image=image)\n",
    "            image = augmented[\"image\"]\n",
    "            mask = cv.resize(mask, (512, 512), interpolation=cv.INTER_NEAREST)\n",
    "\n",
    "        # Flatten images and masks for KNN input\n",
    "        return image.flatten(), mask.flatten()\n",
    "\n",
    "    def _getmask(self, image_id, image):\n",
    "        \"\"\"\n",
    "        Generate mask with labels for each category.\n",
    "        \"\"\"\n",
    "        categories = {\"turtle\": 1, \"flipper\": 2, \"head\": 3}\n",
    "        # Initialize the final mask with zeros\n",
    "        mask = np.zeros((image.shape[0], image.shape[1]), dtype=np.uint8)\n",
    "\n",
    "        # Process each category\n",
    "        for category_name, category_id in categories.items():\n",
    "            ann_ids = self.coco.getAnnIds(imgIds=image_id, catIds=category_id, iscrowd=None)\n",
    "            annotations = self.coco.loadAnns(ann_ids)\n",
    "\n",
    "            # Create a temporary mask for the current category\n",
    "            temp_mask = np.zeros_like(mask)\n",
    "            for ann in annotations:\n",
    "                temp_mask += self.coco.annToMask(ann)\n",
    "            \n",
    "            # Assign category-specific value to the final mask\n",
    "            if category_name == \"turtle\":\n",
    "                mask[temp_mask > 0] = 1\n",
    "            elif category_name == \"flipper\":\n",
    "                mask[temp_mask > 0] = 2\n",
    "            elif category_name == \"head\":\n",
    "                mask[temp_mask > 0] = 3\n",
    "\n",
    "        return mask"
   ]
  },
  {
   "cell_type": "code",
   "execution_count": 5,
   "metadata": {},
   "outputs": [],
   "source": [
    "# Load metadata and map image IDs\n",
    "metadata_path = \"./turtles-data/data/metadata_splits.csv\"\n",
    "metadata = pd.read_csv(metadata_path)"
   ]
  },
  {
   "cell_type": "code",
   "execution_count": 6,
   "metadata": {},
   "outputs": [
    {
     "name": "stdout",
     "output_type": "stream",
     "text": [
      "loading annotations into memory...\n",
      "Done (t=10.58s)\n",
      "creating index...\n",
      "index created!\n"
     ]
    }
   ],
   "source": [
    "# Initialize the COCO object once\n",
    "coco = SeaTurtleDatasetForKNN([]).coco\n",
    "\n",
    "# Get all image IDs once\n",
    "image_ids = coco.getImgIds()\n",
    "\n",
    "# Create the img_to_filename dictionary\n",
    "img_to_filename = {img_id: coco.loadImgs(img_id)[0][\"file_name\"] for img_id in image_ids}\n",
    "\n",
    "# Create the reverse mapping file_to_img dictionary\n",
    "file_to_img = {v: k for k, v in img_to_filename.items()}\n"
   ]
  },
  {
   "cell_type": "code",
   "execution_count": 7,
   "metadata": {},
   "outputs": [],
   "source": [
    "# Get image IDs for each split\n",
    "train_img_ids = [file_to_img[filename] for filename in metadata[metadata[\"split_open\"] == \"train\"][\"file_name\"] if filename in file_to_img]\n",
    "val_img_ids = [file_to_img[filename] for filename in metadata[metadata[\"split_open\"] == \"valid\"][\"file_name\"] if filename in file_to_img]\n",
    "test_img_ids = [file_to_img[filename] for filename in metadata[metadata[\"split_open\"] == \"test\"][\"file_name\"] if filename in file_to_img]\n"
   ]
  },
  {
   "cell_type": "code",
   "execution_count": null,
   "metadata": {},
   "outputs": [
    {
     "name": "stdout",
     "output_type": "stream",
     "text": [
      "loading annotations into memory...\n"
     ]
    },
    {
     "name": "stdout",
     "output_type": "stream",
     "text": [
      "Done (t=10.43s)\n",
      "creating index...\n",
      "index created!\n",
      "loading annotations into memory...\n",
      "Done (t=22.41s)\n",
      "creating index...\n",
      "index created!\n"
     ]
    }
   ],
   "source": [
    "# Create limited Subset datasets with only 200 samples for training and 100 for testing\n",
    "train_dataset = Subset(SeaTurtleDatasetForKNN(train_img_ids, transform=resize_transform), range(200))\n",
    "test_dataset = Subset(SeaTurtleDatasetForKNN(test_img_ids, transform=resize_transform), range(100))\n"
   ]
  },
  {
   "cell_type": "code",
   "execution_count": 9,
   "metadata": {},
   "outputs": [],
   "source": [
    "# Create DataLoaders\n",
    "batch_size = 8\n",
    "num_workers = 4\n",
    "train_loader = DataLoader(train_dataset, batch_size=batch_size, shuffle=True, num_workers=num_workers)\n",
    "#val_loader = DataLoader(val_dataset, batch_size=batch_size, shuffle=False, num_workers=num_workers)\n",
    "test_loader = DataLoader(test_dataset, batch_size=batch_size, shuffle=False, num_workers=num_workers)\n"
   ]
  },
  {
   "cell_type": "code",
   "execution_count": 10,
   "metadata": {},
   "outputs": [],
   "source": [
    "# Prepare the data for KNN by processing in batches\n",
    "X_train, y_train = [], []"
   ]
  },
  {
   "cell_type": "code",
   "execution_count": null,
   "metadata": {},
   "outputs": [],
   "source": [
    "# Iterate over DataLoader batches\n",
    "for images, masks in train_loader:\n",
    "    X_train.extend(images.numpy())\n",
    "    y_train.extend(masks.numpy())"
   ]
  },
  {
   "cell_type": "code",
   "execution_count": null,
   "metadata": {},
   "outputs": [],
   "source": [
    "# Prepare test data\n",
    "X_test, y_test = [], []"
   ]
  },
  {
   "cell_type": "code",
   "execution_count": null,
   "metadata": {},
   "outputs": [],
   "source": [
    "# Iterate over DataLoader batches\n",
    "for images, masks in test_loader:\n",
    "    X_test.extend(images.numpy())\n",
    "    y_test.extend(masks.numpy())"
   ]
  },
  {
   "cell_type": "code",
   "execution_count": null,
   "metadata": {},
   "outputs": [],
   "source": [
    "# Convert to numpy arrays\n",
    "X_train = np.array(X_train)\n",
    "y_train = np.concatenate(y_train).astype(int)  # Flatten all masks into a single array for y_train\n",
    "X_test = np.array(X_test)\n",
    "y_test = np.concatenate(y_test).astype(int)  # Flatten all masks into a single array for y_test"
   ]
  },
  {
   "cell_type": "code",
   "execution_count": null,
   "metadata": {},
   "outputs": [],
   "source": [
    "import numpy as np\n",
    "import matplotlib.pyplot as plt\n",
    "from PIL import Image\n",
    "\n",
    "def display_images_with_segmentation(image_ids, knn_model):\n",
    "    for image_id in image_ids:\n",
    "        # Load image metadata\n",
    "        try:\n",
    "            img_info = coco.loadImgs(image_id)[0]\n",
    "            image_path = f\"turtles-data/data/{img_info['file_name']}\"\n",
    "        except TypeError:\n",
    "            print(f\"[DEBUG]: This image ID is missing: {image_id}\")\n",
    "            continue\n",
    "\n",
    "        try:\n",
    "            # Load the original image\n",
    "            image = np.array(Image.open(image_path))\n",
    "            plt.figure(figsize=(20, 10))\n",
    "\n",
    "            # Original Image\n",
    "            plt.subplot(1, 4, 1)\n",
    "            plt.imshow(image)\n",
    "            plt.axis(\"off\")\n",
    "            plt.title(\"Original Image\")\n",
    "\n",
    "            # Ground Truth Annotations\n",
    "            plt.subplot(1, 4, 2)\n",
    "            plt.imshow(image)\n",
    "            cat_ids = coco.getCatIds()\n",
    "            ann_ids = coco.getAnnIds(imgIds=img_info[\"id\"], catIds=cat_ids, iscrowd=None)\n",
    "            anns = coco.loadAnns(ann_ids)\n",
    "            coco.showAnns(anns)\n",
    "            plt.axis(\"off\")\n",
    "            plt.title(\"Ground Truth Annotations\")\n",
    "\n",
    "            # Ground Truth Mask\n",
    "            plt.subplot(1, 4, 3)\n",
    "            mask = np.zeros((img_info[\"height\"], img_info[\"width\"]), dtype=np.uint8)\n",
    "            for ann in anns:\n",
    "                mask += coco.annToMask(ann)\n",
    "            mask_resized = cv.resize(mask, (512, 512), interpolation=cv.INTER_NEAREST)\n",
    "            plt.imshow(mask_resized, cmap=\"plasma\")\n",
    "            plt.axis(\"off\")\n",
    "            plt.title(\"Ground Truth Mask\")\n",
    "\n",
    "            # KNN Predicted Mask\n",
    "            plt.subplot(1, 4, 4)\n",
    "            image_flattened = image.flatten().reshape(1, -1)\n",
    "            pred_mask_flat = knn_model.predict(image_flattened)\n",
    "            pred_mask = pred_mask_flat.reshape((512, 512))\n",
    "            plt.imshow(pred_mask, cmap=\"plasma\")\n",
    "            plt.axis(\"off\")\n",
    "            plt.title(\"KNN Predicted Mask\")\n",
    "\n",
    "            plt.tight_layout()\n",
    "            plt.show()\n",
    "\n",
    "        except FileNotFoundError:\n",
    "            print(f\"[DEBUG]: This image was already deleted: {image_id}. It has been removed from the dataset.\")\n",
    "\n"
   ]
  },
  {
   "cell_type": "code",
   "execution_count": null,
   "metadata": {},
   "outputs": [],
   "source": [
    "# Initialize and train KNN\n",
    "knn = KNeighborsClassifier(n_neighbors=3)\n",
    "knn.fit(X_train, y_train)"
   ]
  },
  {
   "cell_type": "code",
   "execution_count": null,
   "metadata": {},
   "outputs": [],
   "source": [
    "# Predict and evaluate\n",
    "y_pred = knn.predict(X_test)\n",
    "print(classification_report(y_test, y_pred))"
   ]
  },
  {
   "cell_type": "code",
   "execution_count": null,
   "metadata": {},
   "outputs": [],
   "source": [
    "# Display segmentation results for a few test images\n",
    "sample_image_ids = test_img_ids[:10]  # Use a small sample for quick visualization\n",
    "display_images_with_segmentation(sample_image_ids, knn)\n"
   ]
  }
 ],
 "metadata": {
  "kernelspec": {
   "display_name": "cv",
   "language": "python",
   "name": "python3"
  },
  "language_info": {
   "codemirror_mode": {
    "name": "ipython",
    "version": 3
   },
   "file_extension": ".py",
   "mimetype": "text/x-python",
   "name": "python",
   "nbconvert_exporter": "python",
   "pygments_lexer": "ipython3",
   "version": "3.8.19"
  }
 },
 "nbformat": 4,
 "nbformat_minor": 2
}
